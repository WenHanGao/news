{
 "cells": [
  {
   "cell_type": "code",
   "execution_count": 17,
   "metadata": {},
   "outputs": [],
   "source": [
    "import os\n",
    "from langchain_core.documents import Document\n",
    "from langchain_text_splitters import RecursiveCharacterTextSplitter\n",
    "from langchain_community.callbacks import get_openai_callback\n",
    "from langchain_core.prompts import ChatPromptTemplate\n",
    "from pydantic import BaseModel, Field\n",
    "from langchain_openai import ChatOpenAI\n",
    "from typing import List\n",
    "from dotenv import load_dotenv\n",
    "load_dotenv(\"../.env\")\n",
    "\n",
    "OPENAI_KEY = os.getenv('OPENAI_API_KEY')"
   ]
  },
  {
   "cell_type": "markdown",
   "metadata": {},
   "source": [
    "# Load Data"
   ]
  },
  {
   "cell_type": "code",
   "execution_count": 5,
   "metadata": {},
   "outputs": [],
   "source": [
    "with open(\"../data/sample_news.txt\", 'r') as f:\n",
    "    raw_news = f.read()\n",
    "f.close()"
   ]
  },
  {
   "cell_type": "code",
   "execution_count": 6,
   "metadata": {},
   "outputs": [
    {
     "name": "stdout",
     "output_type": "stream",
     "text": [
      "Aug 15 (Reuters) - U.S. corporate bond spreads, the premium over Treasuries that companies pay for debt, are starting to recoup some lost ground after recent strong economic data increased hopes for interest rate cuts and calmed recession fears.\n",
      "Investment-grade corporate bond spreads on Wednesday tightened by 3 basis points to 105 basis points (bps), according to the ICE BofA Corporate U.S. Corporate Index (.MERC0A0), opens new tab.\n",
      "Junk bond spreads finished Wednesday at 346 bps, also 3 bps tighter this week, according to the ICE BofA High Yield Index (.MERH0A0), opens new tab.\n",
      "Both high-grade and junk bond spreads retraced much of early August's dramatic widening, after surprisingly weak July jobs and productivity reports prompted concerns of a sharp economic downturn and potential recession.\n",
      "Economic data this week appears to have calmed recession fears. U.S. consumer prices in July rose at their slowest pace in nearly 3-1/2 years, while the cost of services fell by the most in nearly 1-1/2 years.\n",
      "Other data this week pointed to economic growth, including July retail sales that rose more than expected.\n",
      "\"The primary driver of tighter credit spreads this week is the Goldilocks narrative of growth without inflation,\" said Nelson Jantzen, a strategist who covers high-yield bonds, leveraged loans and distressed leveraged credit at JPMorgan.\n",
      "The data has further assured credit investors that the Federal Reserve has finished hiking interest rates and will begin cutting rates as soon as September.\n",
      "Forecasts now see a 76.5% probability of a 25 bp Fed rate cut in September, according to CME's FedWatch Tool, up from 64% on Wednesday.\n",
      "\"Recent data has given the market more comfort around the likelihood of more accommodative policy at the next FOMC meeting, and this has given investors increased confidence that a substantial rise in rates is less likely,\" said Blair Shwedo, head of fixed-income sales and trading at U.S. Bank.\n",
      "Renewed optimism was helped by an overall lack of negative surprises in borrowers' second-quarter earnings disclosures, market participants said.\n",
      "\"Financials aside, consumer discretionary and industrial companies were among the next strongest performers during Q2 earnings season, likely providing some support for services and basic material sectors during the widening\" of credit spreads in early August, said Dan Krieter, director of fixed income strategy at BMO Capital Markets\n",
      "Almost $25 billion in new high-grade debt has sold this week, versus forecasts of a weekly total of $30 billion heading into the week, said Krieter.\n",
      "Junk debt issuance has also recovered this week following its lightest showing of 2024 last week, albeit at a slower pace than high-grade deals, said Jantzen.\n",
      "\n"
     ]
    }
   ],
   "source": [
    "print(raw_news)"
   ]
  },
  {
   "cell_type": "markdown",
   "metadata": {},
   "source": [
    "# Split News"
   ]
  },
  {
   "cell_type": "code",
   "execution_count": 7,
   "metadata": {},
   "outputs": [],
   "source": [
    "doc = Document(\n",
    "    page_content=raw_news,\n",
    "    metadata={\"source\": \"sample\"},\n",
    ")\n",
    "\n",
    "text_splitter = RecursiveCharacterTextSplitter(chunk_size=500, chunk_overlap=50)\n",
    "splits = text_splitter.split_documents([doc])"
   ]
  },
  {
   "cell_type": "code",
   "execution_count": 8,
   "metadata": {},
   "outputs": [
    {
     "data": {
      "text/plain": [
       "[Document(metadata={'source': 'sample'}, page_content='Aug 15 (Reuters) - U.S. corporate bond spreads, the premium over Treasuries that companies pay for debt, are starting to recoup some lost ground after recent strong economic data increased hopes for interest rate cuts and calmed recession fears.\\nInvestment-grade corporate bond spreads on Wednesday tightened by 3 basis points to 105 basis points (bps), according to the ICE BofA Corporate U.S. Corporate Index (.MERC0A0), opens new tab.'),\n",
       " Document(metadata={'source': 'sample'}, page_content=\"Junk bond spreads finished Wednesday at 346 bps, also 3 bps tighter this week, according to the ICE BofA High Yield Index (.MERH0A0), opens new tab.\\nBoth high-grade and junk bond spreads retraced much of early August's dramatic widening, after surprisingly weak July jobs and productivity reports prompted concerns of a sharp economic downturn and potential recession.\"),\n",
       " Document(metadata={'source': 'sample'}, page_content='Economic data this week appears to have calmed recession fears. U.S. consumer prices in July rose at their slowest pace in nearly 3-1/2 years, while the cost of services fell by the most in nearly 1-1/2 years.\\nOther data this week pointed to economic growth, including July retail sales that rose more than expected.'),\n",
       " Document(metadata={'source': 'sample'}, page_content='\"The primary driver of tighter credit spreads this week is the Goldilocks narrative of growth without inflation,\" said Nelson Jantzen, a strategist who covers high-yield bonds, leveraged loans and distressed leveraged credit at JPMorgan.\\nThe data has further assured credit investors that the Federal Reserve has finished hiking interest rates and will begin cutting rates as soon as September.'),\n",
       " Document(metadata={'source': 'sample'}, page_content='Forecasts now see a 76.5% probability of a 25 bp Fed rate cut in September, according to CME\\'s FedWatch Tool, up from 64% on Wednesday.\\n\"Recent data has given the market more comfort around the likelihood of more accommodative policy at the next FOMC meeting, and this has given investors increased confidence that a substantial rise in rates is less likely,\" said Blair Shwedo, head of fixed-income sales and trading at U.S. Bank.'),\n",
       " Document(metadata={'source': 'sample'}, page_content='Renewed optimism was helped by an overall lack of negative surprises in borrowers\\' second-quarter earnings disclosures, market participants said.\\n\"Financials aside, consumer discretionary and industrial companies were among the next strongest performers during Q2 earnings season, likely providing some support for services and basic material sectors during the widening\" of credit spreads in early August, said Dan Krieter, director of fixed income strategy at BMO Capital Markets'),\n",
       " Document(metadata={'source': 'sample'}, page_content='Almost $25 billion in new high-grade debt has sold this week, versus forecasts of a weekly total of $30 billion heading into the week, said Krieter.\\nJunk debt issuance has also recovered this week following its lightest showing of 2024 last week, albeit at a slower pace than high-grade deals, said Jantzen.')]"
      ]
     },
     "execution_count": 8,
     "metadata": {},
     "output_type": "execute_result"
    }
   ],
   "source": [
    "splits"
   ]
  },
  {
   "cell_type": "markdown",
   "metadata": {},
   "source": [
    "# Call ChatGPT"
   ]
  },
  {
   "cell_type": "code",
   "execution_count": 13,
   "metadata": {},
   "outputs": [],
   "source": [
    "llm = ChatOpenAI(model=\"gpt-4o-mini-2024-07-18\", temperature=0.0)"
   ]
  },
  {
   "cell_type": "markdown",
   "metadata": {},
   "source": [
    "## Risk Topic"
   ]
  },
  {
   "cell_type": "code",
   "execution_count": 30,
   "metadata": {},
   "outputs": [],
   "source": [
    "class RiskTopic(BaseModel):\n",
    "    \"\"\"Risk-related topics mentioned in the news passage\"\"\"\n",
    "    market: bool = Field(\n",
    "        ..., \n",
    "        description=\"passage mentions risk about macro economy\",\n",
    "    )\n",
    "    credit: bool = Field(\n",
    "        ..., \n",
    "        description=\"passage mentions risk about borrowers\",\n",
    "    )\n",
    "    liquidity: bool = Field(\n",
    "        ..., \n",
    "        description=\"passage mentions risk the underlying investment\",\n",
    "    )\n",
    "    investor: bool = Field(\n",
    "        ..., \n",
    "        description=\"passage mentions risk about investors\",\n",
    "    )\n",
    "    company_specific: bool = Field(\n",
    "        ..., \n",
    "        description=\"passage mentions risk about specific company\",\n",
    "    )\n",
    "\n"
   ]
  },
  {
   "cell_type": "code",
   "execution_count": 31,
   "metadata": {},
   "outputs": [],
   "source": [
    "system = \"\"\"You are an expert investment analyst with specialization in the bond market.\n",
    "Given a passage from a financial news, you need to identify the risk-related topics in the passage.\n",
    "\n",
    "You can only choose from the following topics:\n",
    "    - market: risk about macro economy\n",
    "    - credit: risk about borrowers\n",
    "    - liquidity: risk about the underlying investment\n",
    "    - investor: risk about investors\n",
    "    - company-specific: risk about specific company\n",
    "\n",
    "Here are some examples of correct response:\n",
    "\n",
    "example_user: Inflation continues to be a key driver of macro-economic risk. Central banks around the world, led by the U.S. Federal Reserve, have been aggressively hiking interest rates to tame persistent inflationary pressures.\n",
    "example_assistant: {{\"market\": True, \"credit\": False, \"liquidity\": False, \"investor\": False, \"company_specific\": False}}\n",
    "\n",
    "example_user: Credit risk within the corporate sector has spiked as businesses grapple with higher debt servicing costs. The sectors most impacted include real estate, retail, and small- to medium-sized enterprises (SMEs), many of which are dealing with weaker consumer demand and supply chain disruptions. In particular, real estate firms are facing difficulty as higher mortgage rates lead to a cooling housing market, reducing revenues and profitability.\n",
    "example_assistant: {{\"market\": False, \"credit\": True, \"liquidity\": False, \"investor\": False, \"company_specific\": False}}\n",
    "\n",
    "example_user: In a significant reversal of last year's tech sector downturn, major technology stocks are rallying on the back of strong earnings reports and investor enthusiasm around artificial intelligence (AI) and cloud computing growth. \n",
    "example_assistant: {{\"market\": False, \"credit\": False, \"liquidity\": False, \"investor\": False, \"company_specific\": False}}\"\"\"\n",
    "\n",
    "prompt = ChatPromptTemplate.from_messages([(\"system\", system), (\"human\", \"{input}\")])"
   ]
  },
  {
   "cell_type": "code",
   "execution_count": 32,
   "metadata": {},
   "outputs": [
    {
     "name": "stdout",
     "output_type": "stream",
     "text": [
      "Aug 15 (Reuters) - U.S. corporate bond spreads, the premium over Treasuries that companies pay for debt, are starting to recoup some lost ground after recent strong economic data increased hopes for interest rate cuts and calmed recession fears.\n",
      "Investment-grade corporate bond spreads on Wednesday tightened by 3 basis points to 105 basis points (bps), according to the ICE BofA Corporate U.S. Corporate Index (.MERC0A0), opens new tab.\n"
     ]
    }
   ],
   "source": [
    "print(splits[0].page_content)"
   ]
  },
  {
   "cell_type": "code",
   "execution_count": 33,
   "metadata": {},
   "outputs": [
    {
     "name": "stdout",
     "output_type": "stream",
     "text": [
      "market=True credit=True liquidity=False investor=False company_specific=False\n",
      "---\n",
      "\n",
      "Total Tokens: 231\n",
      "Prompt Tokens: 206\n",
      "Completion Tokens: 25\n",
      "Total Cost (USD): $4.59e-05\n"
     ]
    }
   ],
   "source": [
    "structured_llm = llm.with_structured_output(RiskTopic)\n",
    "\n",
    "with get_openai_callback() as cb:\n",
    "    result = structured_llm.invoke(splits[0].page_content)\n",
    "    print(result)\n",
    "    print(\"---\")\n",
    "print()\n",
    "\n",
    "print(f\"Total Tokens: {cb.total_tokens}\")\n",
    "print(f\"Prompt Tokens: {cb.prompt_tokens}\")\n",
    "print(f\"Completion Tokens: {cb.completion_tokens}\")\n",
    "print(f\"Total Cost (USD): ${cb.total_cost}\")"
   ]
  },
  {
   "cell_type": "code",
   "execution_count": 36,
   "metadata": {},
   "outputs": [
    {
     "data": {
      "text/plain": [
       "RiskTopic(market=True, credit=True, liquidity=False, investor=False, company_specific=False)"
      ]
     },
     "execution_count": 36,
     "metadata": {},
     "output_type": "execute_result"
    }
   ],
   "source": [
    "result"
   ]
  },
  {
   "cell_type": "markdown",
   "metadata": {},
   "source": [
    "# Estimate Cost\n",
    "\n",
    "- $0.150 / 1M input tokens\n",
    "- $0.600 / 1M output tokens"
   ]
  },
  {
   "cell_type": "code",
   "execution_count": 39,
   "metadata": {},
   "outputs": [
    {
     "data": {
      "text/plain": [
       "4.59e-05"
      ]
     },
     "execution_count": 39,
     "metadata": {},
     "output_type": "execute_result"
    }
   ],
   "source": [
    "average_prompt_tokens = 206\n",
    "average_completion_tokens = 25\n",
    "\n",
    "N = 1\n",
    "\n",
    "cost = (average_prompt_tokens * N) / 1e6 * 0.15 + (average_completion_tokens * N) / 1e6 * 0.6\n",
    "cost"
   ]
  },
  {
   "cell_type": "code",
   "execution_count": null,
   "metadata": {},
   "outputs": [],
   "source": []
  }
 ],
 "metadata": {
  "kernelspec": {
   "display_name": ".venv",
   "language": "python",
   "name": "python3"
  },
  "language_info": {
   "codemirror_mode": {
    "name": "ipython",
    "version": 3
   },
   "file_extension": ".py",
   "mimetype": "text/x-python",
   "name": "python",
   "nbconvert_exporter": "python",
   "pygments_lexer": "ipython3",
   "version": "3.9.11"
  }
 },
 "nbformat": 4,
 "nbformat_minor": 2
}
